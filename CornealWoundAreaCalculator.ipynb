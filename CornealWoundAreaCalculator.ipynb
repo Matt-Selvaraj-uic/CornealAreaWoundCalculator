{
 "cells": [
  {
   "cell_type": "code",
   "execution_count": 1,
   "metadata": {},
   "outputs": [],
   "source": [
    "import cv2\n",
    "import matplotlib.pyplot as plt\n",
    "import numpy as np\n",
    "import math\n",
    "import statistics\n",
    "import os\n",
    "import time"
   ]
  },
  {
   "cell_type": "code",
   "execution_count": 2,
   "metadata": {},
   "outputs": [],
   "source": [
    "# This function will read in an image and then convert it into a 500x500 pixel image\n",
    "def read_img(name):\n",
    "    img = cv2.imread(name, 0)\n",
    "    width = 500 # new width\n",
    "    height = 500 # new height\n",
    "    dim = (width, height) # new dimension tuple\n",
    "    resized = cv2.resize(img, dim, interpolation=cv2.INTER_AREA) # set new dimensions\n",
    "    return resized # return 500x500 pixel image"
   ]
  },
  {
   "cell_type": "code",
   "execution_count": 3,
   "metadata": {},
   "outputs": [],
   "source": [
    "# This function circles all the individual cells in the image leaving area's without any cells black\n",
    "def show_edges(img, mi, ma):\n",
    "    edges = cv2.Canny(img, mi, ma)\n",
    "    return edges"
   ]
  },
  {
   "cell_type": "code",
   "execution_count": 4,
   "metadata": {},
   "outputs": [],
   "source": [
    "# This will change the highlighted white circles into a uniform white space, leaving only the wound area as black\n",
    "# default threshold: 100\n",
    "# default radius: 250\n",
    "def change_intensity(img, threshold, radius):\n",
    "    imgBW = img\n",
    "    h = imgBW.shape[0] # collect height of input image\n",
    "    w = imgBW.shape[1] # collect width of input image\n",
    "    center_x = int(h / 2) # x-coordinate of image center\n",
    "    center_y = int(h / 2) # y-coordinate of image center\n",
    "    rows = [] # empty array that will hold a value for each row of the image\n",
    "    for y in range(0, h): # iterate of each row of pixels in image\n",
    "        numNotBlack = 0 # counter to see how many pixels are white\n",
    "        for x in range(0, w): # iterate over each pixel in a row\n",
    "            # the following two lines make sure that program only looks at a circle of radius 250 pixels \n",
    "            # this is because the corners of the image are not of interest\n",
    "            dist = math.hypot(center_x - x, center_y - y)\n",
    "            imgBW[y, x] = 255 if (dist > radius) else imgBW[y, x]\n",
    "            # increment counter as needed \n",
    "            numNotBlack = numNotBlack + 1 if (imgBW[y, x] != 0) else numNotBlack\n",
    "        rows.append(numNotBlack) # add number of non-black pixels to row array\n",
    "    average_not_black = int(sum(rows) / len(rows))\n",
    "    index = 0\n",
    "    for row in rows:\n",
    "        # If a row contains more white than the adjusted average amount of white pixels, convert it entirely to white\n",
    "        if row > (average_not_black - threshold):\n",
    "            for x in range(0, w):\n",
    "                imgBW[index, x] = 255\n",
    "        index += 1\n",
    "\n",
    "    return imgBW"
   ]
  },
  {
   "cell_type": "code",
   "execution_count": 5,
   "metadata": {},
   "outputs": [],
   "source": [
    "# Changes the color of black pixels to blue to make the wound area more visible\n",
    "def change_color_blue(img, original):\n",
    "    count = 0\n",
    "    imgRGB = cv2.GaussianBlur(cv2.cvtColor(img, cv2.COLOR_GRAY2RGB), (5, 5), 0)\n",
    "    original = cv2.cvtColor(original, cv2.COLOR_GRAY2RGB)\n",
    "    h = imgRGB.shape[0]\n",
    "    w = imgRGB.shape[1]\n",
    "\n",
    "    for y in range(0, h):\n",
    "        for x in range(0, w):\n",
    "            if imgRGB[y, x][0] < 60 and imgRGB[y, x][1] < 60 and imgRGB[y, x][2] < 60:\n",
    "                imgRGB[y, x] = (0, 0, 255)\n",
    "                if original[y, x][0] < 100 and original[y, x][1] < 100 and original[y, x][2] < 100:\n",
    "                    original[y, x] = (0, 0, 255) # change the wound pixel in the original to blue\n",
    "                count += 1 # increment count of pixels\n",
    "    return original, count"
   ]
  },
  {
   "cell_type": "code",
   "execution_count": 6,
   "metadata": {},
   "outputs": [],
   "source": [
    "# shows comparison of original image to image with wound highlighted\n",
    "def show_comparison(img, img2, name):\n",
    "    plt.subplot(121), plt.imshow(img, cmap='gray')\n",
    "    plt.title('Original Image'), plt.xticks([]), plt.yticks([])\n",
    "    plt.subplot(122), plt.imshow(img2, cmap='gray')\n",
    "    plt.title('Wound-Only Image'), plt.xticks([]), plt.yticks([])\n",
    "    size = len(name)\n",
    "    mod_name = name[:size - 4]\n",
    "\n",
    "    plt.savefig('Final_Images/' + mod_name + '.png')\n",
    "    plt.show()\n",
    "    plt.close()"
   ]
  },
  {
   "cell_type": "code",
   "execution_count": 10,
   "metadata": {},
   "outputs": [
    {
     "data": {
      "text/plain": [
       "17"
      ]
     },
     "execution_count": 10,
     "metadata": {},
     "output_type": "execute_result"
    }
   ],
   "source": [
    "# Create output CSV file that will show image filenames and the size of their wounds\n",
    "timestr = time.strftime(\"%m%d%Y-%H%M%S\")\n",
    "outName = timestr + \"_output.csv\"\n",
    "output = open(outName, \"x\")\n",
    "output.write(\"Image,Wound Area\\n\")"
   ]
  },
  {
   "cell_type": "code",
   "execution_count": 11,
   "metadata": {},
   "outputs": [
    {
     "name": "stdout",
     "output_type": "stream",
     "text": [
      "Number of wound pixels for  DTG Haloparidol 5fold  02232021_A06 (2).TIF :  7453\n",
      "Number of wound pixels for  DTG Haloparidol 5fold  02232021_A03 (1).TIF :  27428\n",
      "Number of wound pixels for  DTG Haloparidol 5fold  02232021_A02 (1).TIF :  31973\n",
      "Number of wound pixels for  DTG Haloparidol 5fold  02232021_A05 (2).TIF :  13696\n",
      "Number of wound pixels for  DTG Haloparidol 5fold  02232021_A04 (2).TIF :  7048\n",
      "Number of wound pixels for  DTG Haloparidol 5fold  02232021_A04 (1).TIF :  23740\n",
      "Number of wound pixels for  DTG Haloparidol 5fold  02232021_A05 (1).TIF :  31196\n",
      "Number of wound pixels for  DTG Haloparidol 5fold  02232021_A02 (2).TIF :  16622\n",
      "Number of wound pixels for  DTG Haloparidol 5fold  02232021_A06 (1).TIF :  27434\n",
      "Number of wound pixels for  DTG Haloparidol 5fold  02232021_A03 (2).TIF :  12305\n"
     ]
    }
   ],
   "source": [
    "for filename in os.listdir(\"Wound_Images/\"):\n",
    "    if filename.endswith('F'):\n",
    "        imagePath = \"Wound_Images/\" + filename\n",
    "        image = read_img(imagePath)\n",
    "        edges = show_edges(image, 5, 30)\n",
    "        imgBW = change_intensity(edges, 100, 250)\n",
    "        blue, pixels = change_color_blue(imgBW, image)\n",
    "#         show_comparison(image, blue, filename)\n",
    "        output.write(filename + \",\" + str(pixels) + \"\\n\")\n",
    "        cv2.imwrite('Final_Images/' + filename + 'FINAL.png', blue)\n",
    "        print(\"Number of wound pixels for \", filename, \": \", pixels)\n",
    "output.close()"
   ]
  },
  {
   "cell_type": "code",
   "execution_count": 12,
   "metadata": {},
   "outputs": [],
   "source": [
    "def jaccard_index(annotated, img, mi, ma, threshold, radius):\n",
    "    programImg = read_img(img)\n",
    "    anoImg = read_img(annotated)\n",
    "    edges = show_edges(programImg, mi, ma)\n",
    "    imgBW = change_intensity(edges, threshold, radius)\n",
    "    h = imgBW.shape[0]\n",
    "    w = imgBW.shape[1]\n",
    "    AnoImgPix = []\n",
    "    ImgPix = []\n",
    "    for y in range(0, h):\n",
    "        for x in range(0, w):\n",
    "            if anoImg[y, x] > 225 and anoImg[y, x] > 225 and anoImg[y, x] > 225:\n",
    "                 AnoImgPix.append((y,x))\n",
    "            if imgBW[y, x] < 60 and imgBW[y, x] < 60 and imgBW[y, x] < 60:\n",
    "                 ImgPix.append((y,x))\n",
    "    union_list = list(set(AnoImgPix) | set(ImgPix))\n",
    "    intersection_list = [value for value in AnoImgPix if value in ImgPix]\n",
    "    return (len(intersection_list)/len(union_list))"
   ]
  },
  {
   "cell_type": "code",
   "execution_count": 14,
   "metadata": {},
   "outputs": [
    {
     "data": {
      "text/plain": [
       "0.8004930582587259"
      ]
     },
     "execution_count": 14,
     "metadata": {},
     "output_type": "execute_result"
    }
   ],
   "source": [
    "jaccard_index('AnnotatedImages2/DTG Haloparidol 5fold  02232021_A02 (1).jpg', 'Wound_Images/DTG Haloparidol 5fold  02232021_A02 (1).TIF', 10, 15, 110, 250)"
   ]
  },
  {
   "cell_type": "code",
   "execution_count": 15,
   "metadata": {},
   "outputs": [
    {
     "data": {
      "text/plain": [
       "0.8327145214521452"
      ]
     },
     "execution_count": 15,
     "metadata": {},
     "output_type": "execute_result"
    }
   ],
   "source": [
    "jaccard_index('AnnotatedImages2/DTG Haloparidol 5fold  02232021_A03 (1).jpg', 'Wound_Images/DTG Haloparidol 5fold  02232021_A03 (1).TIF', 10, 15, 110, 250)"
   ]
  },
  {
   "cell_type": "code",
   "execution_count": 17,
   "metadata": {},
   "outputs": [
    {
     "data": {
      "text/plain": [
       "0.8083073386964373"
      ]
     },
     "execution_count": 17,
     "metadata": {},
     "output_type": "execute_result"
    }
   ],
   "source": [
    "jaccard_index('AnnotatedImages2/DTG Haloparidol 5fold  02232021_A04 (1).jpg', 'Wound_Images/DTG Haloparidol 5fold  02232021_A04 (1).TIF', 10, 15, 110, 250)"
   ]
  },
  {
   "cell_type": "code",
   "execution_count": 18,
   "metadata": {},
   "outputs": [
    {
     "data": {
      "text/plain": [
       "0.8779102478231748"
      ]
     },
     "execution_count": 18,
     "metadata": {},
     "output_type": "execute_result"
    }
   ],
   "source": [
    "jaccard_index('AnnotatedImages2/DTG Haloparidol 5fold  02232021_A05 (1).jpg', 'Wound_Images/DTG Haloparidol 5fold  02232021_A05 (1).TIF', 10, 15, 110, 250)"
   ]
  },
  {
   "cell_type": "code",
   "execution_count": 19,
   "metadata": {},
   "outputs": [
    {
     "data": {
      "text/plain": [
       "0.8227552790572471"
      ]
     },
     "execution_count": 19,
     "metadata": {},
     "output_type": "execute_result"
    }
   ],
   "source": [
    "jaccard_index('AnnotatedImages2/DTG Haloparidol 5fold  02232021_A06 (1).jpg', 'Wound_Images/DTG Haloparidol 5fold  02232021_A06 (1).TIF', 10, 15, 110, 250)"
   ]
  },
  {
   "cell_type": "code",
   "execution_count": 20,
   "metadata": {},
   "outputs": [
    {
     "data": {
      "text/plain": [
       "0.5456731860053546"
      ]
     },
     "execution_count": 20,
     "metadata": {},
     "output_type": "execute_result"
    }
   ],
   "source": [
    "jaccard_index('AnnotatedImages2/DTG Haloparidol 5fold  02232021_A02 (2).jpg', 'Wound_Images/DTG Haloparidol 5fold  02232021_A02 (2).TIF', 10, 15,110, 250)"
   ]
  },
  {
   "cell_type": "code",
   "execution_count": 21,
   "metadata": {},
   "outputs": [
    {
     "data": {
      "text/plain": [
       "0.5577060931899641"
      ]
     },
     "execution_count": 21,
     "metadata": {},
     "output_type": "execute_result"
    }
   ],
   "source": [
    "jaccard_index('AnnotatedImages2/DTG Haloparidol 5fold  02232021_A03 (2).jpg', 'Wound_Images/DTG Haloparidol 5fold  02232021_A03 (2).TIF', 10, 15,110, 250)"
   ]
  },
  {
   "cell_type": "code",
   "execution_count": 22,
   "metadata": {
    "scrolled": true
   },
   "outputs": [
    {
     "data": {
      "text/plain": [
       "0.4353030430751075"
      ]
     },
     "execution_count": 22,
     "metadata": {},
     "output_type": "execute_result"
    }
   ],
   "source": [
    "jaccard_index('AnnotatedImages2/DTG Haloparidol 5fold  02232021_A04 (2).jpg', 'Wound_Images/DTG Haloparidol 5fold  02232021_A04 (2).TIF', 10, 15,110, 250)"
   ]
  },
  {
   "cell_type": "code",
   "execution_count": 23,
   "metadata": {},
   "outputs": [
    {
     "data": {
      "text/plain": [
       "0.7194656488549618"
      ]
     },
     "execution_count": 23,
     "metadata": {},
     "output_type": "execute_result"
    }
   ],
   "source": [
    "jaccard_index('AnnotatedImages2/DTG Haloparidol 5fold  02232021_A05 (2).jpg', 'Wound_Images/DTG Haloparidol 5fold  02232021_A05 (2).TIF', 10, 15, 110, 250)"
   ]
  },
  {
   "cell_type": "code",
   "execution_count": 24,
   "metadata": {},
   "outputs": [
    {
     "data": {
      "text/plain": [
       "0.46073805984618366"
      ]
     },
     "execution_count": 24,
     "metadata": {},
     "output_type": "execute_result"
    }
   ],
   "source": [
    "jaccard_index('AnnotatedImages2/DTG Haloparidol 5fold  02232021_A06 (2).jpg', 'Wound_Images/DTG Haloparidol 5fold  02232021_A06 (2).TIF', 10, 15, 110, 250)"
   ]
  },
  {
   "cell_type": "code",
   "execution_count": 26,
   "metadata": {},
   "outputs": [],
   "source": [
    "img = read_img('Wound_Images/DTG Haloparidol 5fold  02232021_A04 (1).TIF')"
   ]
  },
  {
   "cell_type": "code",
   "execution_count": 27,
   "metadata": {},
   "outputs": [
    {
     "data": {
      "image/png": "[encoded data removed]",
      "text/plain": [
       "<Figure size 432x288 with 1 Axes>"
      ]
     },
     "metadata": {
      "needs_background": "light"
     },
     "output_type": "display_data"
    }
   ],
   "source": [
    "histg = cv2.calcHist([img],[0],None,[256],[0,256])\n",
    "plt.plot(histg)\n",
    "plt.show()"
   ]
  },
  {
   "cell_type": "code",
   "execution_count": null,
   "metadata": {},
   "outputs": [],
   "source": []
  },
  {
   "cell_type": "code",
   "execution_count": 40,
   "metadata": {},
   "outputs": [
    {
     "data": {
      "text/plain": [
       "<matplotlib.image.AxesImage at 0x7fbaa5e21b10>"
      ]
     },
     "execution_count": 40,
     "metadata": {},
     "output_type": "execute_result"
    },
    {
     "data": {
      "image/png": "[encoded data removed]",
      "text/plain": [
       "<Figure size 432x288 with 1 Axes>"
      ]
     },
     "metadata": {
      "needs_background": "light"
     },
     "output_type": "display_data"
    }
   ],
   "source": [
    "img = read_img('Wound_Images/DTG Haloparidol 5fold  02232021_A04 (1).TIF')\n",
    "h = img.shape[0] # collect height of input image\n",
    "w = img.shape[1] # collect width of input image\n",
    "center_x = int(h / 2) # x-coordinate of image center\n",
    "center_y = int(h / 2) # y-coordinate of image center\n",
    "rows = [] # empty array that will hold a value for each row of the image\n",
    "for y in range(0, h): # iterate of each row of pixels in image\n",
    "    for x in range(0, w): # iterate over each pixel in a row\n",
    "        if img[y,x] > 10 and img[y,x] <= 50:\n",
    "            img[y,x] = 50\n",
    "        elif img[y,x] > 50 and img[y,x] <= 80:\n",
    "            img[y,x] = 150\n",
    "        elif img[y,x] > 80 and img[y,x] <= 95:\n",
    "            img[y,x] = 250\n",
    "        else:\n",
    "            img[y,x] = 0\n",
    "cv2.imwrite('Final_Images/gradient.png', img)\n",
    "plt.imshow(img, cmap=\"gray\")\n",
    "\n"
   ]
  },
  {
   "cell_type": "code",
   "execution_count": 31,
   "metadata": {},
   "outputs": [
    {
     "data": {
      "image/png": "[encoded data removed]",
      "text/plain": [
       "<Figure size 432x288 with 4 Axes>"
      ]
     },
     "metadata": {},
     "output_type": "display_data"
    }
   ],
   "source": [
    "img = cv2.imread('Wound_Images/DTG Haloparidol 5fold  02232021_A04 (1).TIF', 0)\n",
    "dft = cv2.dft(np.float32(img), flags=cv2.DFT_COMPLEX_OUTPUT)\n",
    "dft_shift = np.fft.fftshift(dft)\n",
    "rows, cols = img.shape\n",
    "crow, ccol = int(rows / 2), int(cols / 2)  # center\n",
    "\n",
    "magnitude_spectrum = 20 * np.log(cv2.magnitude(dft_shift[:, :, 0], dft_shift[:, :, 1]))\n",
    "\n",
    "\n",
    "# Circular HPF mask, center circle is 0, remaining all ones\n",
    "\n",
    "mask = np.ones((rows, cols, 2), np.uint8)\n",
    "r = 80\n",
    "center = [crow, ccol]\n",
    "x, y = np.ogrid[:rows, :cols]\n",
    "mask_area = (x - center[0]) ** 2 + (y - center[1]) ** 2 <= r*r\n",
    "mask[mask_area] = 1\n",
    "\n",
    "# apply mask and inverse DFT\n",
    "fshift = dft_shift * mask\n",
    "\n",
    "fshift_mask_mag = 2000 * np.log(cv2.magnitude(fshift[:, :, 0], fshift[:, :, 1]))\n",
    "\n",
    "f_ishift = np.fft.ifftshift(fshift)\n",
    "img_back = cv2.idft(f_ishift)\n",
    "img_back = cv2.magnitude(img_back[:, :, 0], img_back[:, :, 1])\n",
    "\n",
    "plt.subplot(2, 2, 1), plt.imshow(img, cmap='gray')\n",
    "plt.title('Input Image'), plt.xticks([]), plt.yticks([])\n",
    "plt.subplot(2, 2, 2), plt.imshow(magnitude_spectrum, cmap='gray')\n",
    "plt.title('After FFT'), plt.xticks([]), plt.yticks([])\n",
    "plt.subplot(2, 2, 3), plt.imshow(fshift_mask_mag, cmap='gray')\n",
    "plt.title('FFT + Mask'), plt.xticks([]), plt.yticks([])\n",
    "plt.subplot(2, 2, 4), plt.imshow(img_back, cmap='gray')\n",
    "plt.title('After FFT Inverse'), plt.xticks([]), plt.yticks([])\n",
    "plt.show()"
   ]
  },
  {
   "cell_type": "code",
   "execution_count": 32,
   "metadata": {},
   "outputs": [],
   "source": [
    "rows, cols = img.shape\n",
    "crow, ccol = int(rows / 2), int(cols / 2)\n",
    "\n",
    "mask = np.zeros((rows, cols, 2), np.uint8)\n",
    "r_out = 80\n",
    "r_in = 10\n",
    "center = [crow, ccol]\n",
    "x, y = np.ogrid[:rows, :cols]\n",
    "mask_area = np.logical_and(((x - center[0]) ** 2 + (y - center[1]) ** 2 >= r_in ** 2),\n",
    "                           ((x - center[0]) ** 2 + (y - center[1]) ** 2 <= r_out ** 2))\n",
    "mask[mask_area] = 1"
   ]
  },
  {
   "cell_type": "code",
   "execution_count": 34,
   "metadata": {},
   "outputs": [
    {
     "name": "stdout",
     "output_type": "stream",
     "text": [
      "min: 5 max: 5 J Index: 0.030366363412835013\n",
      "min: 5 max: 10 J Index: 0.3599920815599327\n",
      "min: 5 max: 15 J Index: 0.3996092296241161\n",
      "min: 5 max: 20 J Index: 0.40561972073780383\n",
      "min: 5 max: 25 J Index: 0.4075374732334047\n",
      "min: 5 max: 30 J Index: 0.406057661159702\n",
      "min: 5 max: 35 J Index: 0.4134431916738942\n",
      "min: 5 max: 40 J Index: 0.4086643204290263\n",
      "min: 5 max: 45 J Index: 0.40892435469424315\n",
      "min: 5 max: 50 J Index: 0.3312749260259874\n",
      "min: 5 max: 55 J Index: 0.3212499264402989\n",
      "min: 5 max: 60 J Index: 0.27020107987339415\n",
      "min: 5 max: 65 J Index: 0.2818759630200308\n",
      "min: 5 max: 70 J Index: 0.28572097159170684\n",
      "min: 5 max: 75 J Index: 0.26856711029010455\n",
      "min: 5 max: 80 J Index: 0.25734855136084284\n",
      "min: 5 max: 85 J Index: 0.25658120833046943\n",
      "min: 5 max: 90 J Index: 0.23901081525520207\n",
      "min: 5 max: 95 J Index: 0.2371675146518967\n",
      "min: 10 max: 10 J Index: 0.4299847792998478\n",
      "min: 10 max: 15 J Index: 0.4353030430751075\n",
      "min: 10 max: 20 J Index: 0.4356825609653901\n",
      "min: 10 max: 25 J Index: 0.4328394659719961\n",
      "min: 10 max: 30 J Index: 0.422626071906223\n",
      "min: 10 max: 35 J Index: 0.4337837837837838\n",
      "min: 10 max: 40 J Index: 0.42027173460031675\n",
      "min: 10 max: 45 J Index: 0.41915100453661697\n",
      "min: 10 max: 50 J Index: 0.33189897100093546\n",
      "min: 10 max: 55 J Index: 0.33050599590523544\n",
      "min: 10 max: 60 J Index: 0.2846547938521591\n",
      "min: 10 max: 65 J Index: 0.256043658668591\n",
      "min: 10 max: 70 J Index: 0.2592792269730021\n",
      "min: 10 max: 75 J Index: 0.2651832237123089\n",
      "min: 10 max: 80 J Index: 0.26939447478316736\n",
      "min: 10 max: 85 J Index: 0.2811753463927377\n",
      "min: 10 max: 90 J Index: 0.2626060509044341\n",
      "min: 10 max: 95 J Index: 0.26950017295053613\n",
      "min: 15 max: 15 J Index: 0.4308843869498007\n",
      "min: 15 max: 20 J Index: 0.4306658026891301\n",
      "min: 15 max: 25 J Index: 0.4271515525078974\n",
      "min: 15 max: 30 J Index: 0.4271624266144814\n",
      "min: 15 max: 35 J Index: 0.42588986681205704\n",
      "min: 15 max: 40 J Index: 0.4292971352431712\n",
      "min: 15 max: 45 J Index: 0.397882797731569\n",
      "min: 15 max: 50 J Index: 0.31064172447968286\n",
      "min: 15 max: 55 J Index: 0.27518155108376297\n",
      "min: 15 max: 60 J Index: 0.2702715399793291\n",
      "min: 15 max: 65 J Index: 0.24960321165157315\n",
      "min: 15 max: 70 J Index: 0.2527510849349039\n",
      "min: 15 max: 75 J Index: 0.2878500237304224\n",
      "min: 15 max: 80 J Index: 0.2923363615187515\n",
      "min: 15 max: 85 J Index: 0.30816059569329846\n",
      "min: 15 max: 90 J Index: 0.24738169123351436\n",
      "min: 15 max: 95 J Index: 0.23311799122379326\n",
      "min: 20 max: 20 J Index: 0.42834967320261436\n",
      "min: 20 max: 25 J Index: 0.42782665363310524\n",
      "min: 20 max: 30 J Index: 0.4194187582562748\n",
      "min: 20 max: 35 J Index: 0.4157447490780824\n",
      "min: 20 max: 40 J Index: 0.42422145328719724\n",
      "min: 20 max: 45 J Index: 0.35265595599942107\n",
      "min: 20 max: 50 J Index: 0.30150058778784317\n",
      "min: 20 max: 55 J Index: 0.2880363704303419\n",
      "min: 20 max: 60 J Index: 0.2785473379908456\n",
      "min: 20 max: 65 J Index: 0.25870646766169153\n",
      "min: 20 max: 70 J Index: 0.27552099533437013\n",
      "min: 20 max: 75 J Index: 0.2954494507957857\n",
      "min: 20 max: 80 J Index: 0.350930436866065\n",
      "min: 20 max: 85 J Index: 0.29458267454439546\n",
      "min: 20 max: 90 J Index: 0.20583641594739005\n",
      "min: 20 max: 95 J Index: 0.20213513133867117\n",
      "min: 25 max: 25 J Index: 0.4251332579550961\n",
      "min: 25 max: 30 J Index: 0.42038753159224934\n",
      "min: 25 max: 35 J Index: 0.41466346153846156\n",
      "min: 25 max: 40 J Index: 0.3747970952584366\n",
      "min: 25 max: 45 J Index: 0.3574057413920013\n",
      "min: 25 max: 50 J Index: 0.3010590015128593\n",
      "min: 25 max: 55 J Index: 0.2951144366197183\n",
      "min: 25 max: 60 J Index: 0.2624305456617752\n",
      "min: 25 max: 65 J Index: 0.2693819221150411\n",
      "min: 25 max: 70 J Index: 0.297798001137564\n",
      "min: 25 max: 75 J Index: 0.2031164570803718\n",
      "min: 25 max: 80 J Index: 0.2296424785583502\n",
      "min: 25 max: 85 J Index: 0.16976284584980236\n",
      "min: 25 max: 90 J Index: 0.15784652961530632\n",
      "min: 25 max: 95 J Index: 0.16568315932818883\n",
      "min: 30 max: 30 J Index: 0.3851117978549355\n",
      "min: 30 max: 35 J Index: 0.40744837758112096\n",
      "min: 30 max: 40 J Index: 0.38794392523364485\n",
      "min: 30 max: 45 J Index: 0.30486202365308807\n",
      "min: 30 max: 50 J Index: 0.2617741795072691\n",
      "min: 30 max: 55 J Index: 0.2447038054138878\n",
      "min: 30 max: 60 J Index: 0.26706072004298764\n",
      "min: 30 max: 65 J Index: 0.15735158884234188\n",
      "min: 30 max: 70 J Index: 0.19218910585817062\n",
      "min: 30 max: 75 J Index: 0.14513788098693758\n",
      "min: 30 max: 80 J Index: 0.12926298331087385\n",
      "min: 30 max: 85 J Index: 0.10713527288171586\n",
      "min: 30 max: 90 J Index: 0.0818122555410691\n",
      "min: 30 max: 95 J Index: 0.0683278836396437\n",
      "min: 35 max: 35 J Index: 0.33045070709126056\n",
      "min: 35 max: 40 J Index: 0.25216184477420733\n",
      "min: 35 max: 45 J Index: 0.23921396421121968\n",
      "min: 35 max: 50 J Index: 0.2048021258422701\n",
      "min: 35 max: 55 J Index: 0.18702136235388955\n",
      "min: 35 max: 60 J Index: 0.19452054794520549\n",
      "min: 35 max: 65 J Index: 0.12660588479071694\n",
      "min: 35 max: 70 J Index: 0.07030453979395448\n",
      "min: 35 max: 75 J Index: 0.10176663493070982\n",
      "min: 35 max: 80 J Index: 0.06868752015478878\n",
      "min: 35 max: 85 J Index: 0.06814079422382671\n",
      "min: 35 max: 90 J Index: 0.0684560730799594\n",
      "min: 35 max: 95 J Index: 0.03670284111693696\n",
      "min: 40 max: 40 J Index: 0.25171390565844676\n",
      "min: 40 max: 45 J Index: 0.2084134102071322\n",
      "min: 40 max: 50 J Index: 0.14008273960009193\n",
      "min: 40 max: 55 J Index: 0.10250728862973761\n",
      "min: 40 max: 60 J Index: 0.09706272084805653\n",
      "min: 40 max: 65 J Index: 0.0970412894678737\n",
      "min: 40 max: 70 J Index: 0.08137510879025239\n",
      "min: 40 max: 75 J Index: 0.03609315937080844\n",
      "min: 40 max: 80 J Index: 0.0\n",
      "min: 40 max: 85 J Index: 0.02205798749289369\n",
      "min: 40 max: 90 J Index: 0.013347634370158503\n",
      "min: 40 max: 95 J Index: 0.0\n",
      "min: 45 max: 45 J Index: 0.14032869785082175\n",
      "min: 45 max: 50 J Index: 0.1022740524781341\n",
      "min: 45 max: 55 J Index: 0.10261194029850747\n",
      "min: 45 max: 60 J Index: 0.09710880600308983\n",
      "min: 45 max: 65 J Index: 0.07034607554851843\n",
      "min: 45 max: 70 J Index: 0.034189018072982615\n",
      "min: 45 max: 75 J Index: 0.0\n",
      "min: 45 max: 80 J Index: 0.0\n",
      "min: 45 max: 85 J Index: 0.0\n",
      "min: 45 max: 90 J Index: 0.013344453711426188\n",
      "min: 45 max: 95 J Index: 0.0\n",
      "min: 50 max: 50 J Index: 0.06290014601819612\n",
      "min: 50 max: 55 J Index: 0.05965697240865026\n",
      "min: 50 max: 60 J Index: 0.05961251862891207\n",
      "min: 50 max: 65 J Index: 0.03248310442555047\n",
      "min: 50 max: 70 J Index: 0.0\n",
      "min: 50 max: 75 J Index: 0.0\n",
      "min: 50 max: 80 J Index: 0.0\n",
      "min: 50 max: 85 J Index: 0.0\n",
      "min: 50 max: 90 J Index: 0.0\n",
      "min: 50 max: 95 J Index: 0.0\n",
      "min: 55 max: 55 J Index: 0.09805868078535186\n",
      "min: 55 max: 60 J Index: 0.06293470944581557\n",
      "min: 55 max: 65 J Index: 0.0\n",
      "min: 55 max: 70 J Index: 0.022047959995454027\n",
      "min: 55 max: 75 J Index: 0.0\n",
      "min: 55 max: 80 J Index: 0.0\n",
      "min: 55 max: 85 J Index: 0.0\n",
      "min: 55 max: 90 J Index: 0.0\n",
      "min: 55 max: 95 J Index: 0.0\n",
      "min: 60 max: 60 J Index: 0.0\n",
      "min: 60 max: 65 J Index: 0.0\n",
      "min: 60 max: 70 J Index: 0.0\n",
      "min: 60 max: 75 J Index: 0.0\n",
      "min: 60 max: 80 J Index: 0.0\n",
      "min: 60 max: 85 J Index: 0.0\n",
      "min: 60 max: 90 J Index: 0.0\n",
      "min: 60 max: 95 J Index: 0.0\n",
      "min: 65 max: 65 J Index: 0.0\n",
      "min: 65 max: 70 J Index: 0.0\n",
      "min: 65 max: 75 J Index: 0.0\n",
      "min: 65 max: 80 J Index: 0.0\n",
      "min: 65 max: 85 J Index: 0.0\n",
      "min: 65 max: 90 J Index: 0.0\n",
      "min: 65 max: 95 J Index: 0.0\n",
      "min: 70 max: 70 J Index: 0.0\n",
      "min: 70 max: 75 J Index: 0.0\n",
      "min: 70 max: 80 J Index: 0.0\n",
      "min: 70 max: 85 J Index: 0.0\n",
      "min: 70 max: 90 J Index: 0.0\n",
      "min: 70 max: 95 J Index: 0.0\n",
      "min: 75 max: 75 J Index: 0.0\n",
      "min: 75 max: 80 J Index: 0.0\n",
      "min: 75 max: 85 J Index: 0.0\n",
      "min: 75 max: 90 J Index: 0.0\n",
      "min: 75 max: 95 J Index: 0.0\n",
      "min: 80 max: 80 J Index: 0.0\n",
      "min: 80 max: 85 J Index: 0.0\n",
      "min: 80 max: 90 J Index: 0.0\n",
      "min: 80 max: 95 J Index: 0.0\n",
      "min: 85 max: 85 J Index: 0.0\n",
      "min: 85 max: 90 J Index: 0.0\n",
      "min: 85 max: 95 J Index: 0.0\n",
      "min: 90 max: 90 J Index: 0.0\n",
      "min: 90 max: 95 J Index: 0.0\n",
      "min: 95 max: 95 J Index: 0.0\n"
     ]
    }
   ],
   "source": [
    "mi = 0\n",
    "ma = 0\n",
    "while mi<100:\n",
    "    mi+=5\n",
    "    ma+=5\n",
    "    while ma<100:\n",
    "        print(\"min: \" + str(mi) + \" max: \" + str(ma) + \" J Index: \" + str(jaccard_index('AnnotatedImages2/DTG Haloparidol 5fold  02232021_A04 (2).jpg', 'Wound_Images/DTG Haloparidol 5fold  02232021_A04 (2).TIF', mi, ma, 110, 250)))\n",
    "        ma+=5\n",
    "    ma=mi\n"
   ]
  },
  {
   "cell_type": "code",
   "execution_count": 35,
   "metadata": {},
   "outputs": [
    {
     "ename": "error",
     "evalue": "OpenCV(4.5.1) /private/var/folders/nz/vv4_9tw56nv9k3tkvyszvwg80000gn/T/pip-req-build-oe0iat4a/opencv/modules/imgproc/src/resize.cpp:4051: error: (-215:Assertion failed) !ssize.empty() in function 'resize'\n",
     "output_type": "error",
     "traceback": [
      "\u001b[0;31m---------------------------------------------------------------------------\u001b[0m",
      "\u001b[0;31merror\u001b[0m                                     Traceback (most recent call last)",
      "\u001b[0;32m<ipython-input-35-fcb104e8419b>\u001b[0m in \u001b[0;36m<module>\u001b[0;34m\u001b[0m\n\u001b[1;32m      2\u001b[0m \u001b[0mmax\u001b[0m \u001b[0;34m=\u001b[0m \u001b[0;36m10\u001b[0m\u001b[0;34m\u001b[0m\u001b[0;34m\u001b[0m\u001b[0m\n\u001b[1;32m      3\u001b[0m \u001b[0;32mwhile\u001b[0m \u001b[0mmax\u001b[0m\u001b[0;34m<\u001b[0m\u001b[0;36m100\u001b[0m\u001b[0;34m:\u001b[0m\u001b[0;34m\u001b[0m\u001b[0;34m\u001b[0m\u001b[0m\n\u001b[0;32m----> 4\u001b[0;31m     \u001b[0mprint\u001b[0m\u001b[0;34m(\u001b[0m\u001b[0;34m\"min: \"\u001b[0m \u001b[0;34m+\u001b[0m \u001b[0mstr\u001b[0m\u001b[0;34m(\u001b[0m\u001b[0mmin\u001b[0m\u001b[0;34m)\u001b[0m \u001b[0;34m+\u001b[0m \u001b[0;34m\" max: \"\u001b[0m \u001b[0;34m+\u001b[0m \u001b[0mstr\u001b[0m\u001b[0;34m(\u001b[0m\u001b[0mmax\u001b[0m\u001b[0;34m)\u001b[0m \u001b[0;34m+\u001b[0m \u001b[0;34m\" J Index: \"\u001b[0m \u001b[0;34m+\u001b[0m \u001b[0mstr\u001b[0m\u001b[0;34m(\u001b[0m\u001b[0mjaccard_index\u001b[0m\u001b[0;34m(\u001b[0m\u001b[0;34m'AnnotatedImages2/DTG Haloparidol 5fold  02232021_A04 (2).jpg'\u001b[0m\u001b[0;34m,\u001b[0m \u001b[0;34m'Wound_Images/DTG Haloparidol 5fold  02232021_A04.TIF'\u001b[0m\u001b[0;34m,\u001b[0m \u001b[0mmin\u001b[0m\u001b[0;34m,\u001b[0m \u001b[0mmax\u001b[0m\u001b[0;34m,\u001b[0m \u001b[0;36m110\u001b[0m\u001b[0;34m,\u001b[0m \u001b[0;36m250\u001b[0m\u001b[0;34m)\u001b[0m\u001b[0;34m)\u001b[0m\u001b[0;34m)\u001b[0m\u001b[0;34m\u001b[0m\u001b[0;34m\u001b[0m\u001b[0m\n\u001b[0m\u001b[1;32m      5\u001b[0m     \u001b[0mmax\u001b[0m\u001b[0;34m+=\u001b[0m\u001b[0;36m10\u001b[0m\u001b[0;34m\u001b[0m\u001b[0;34m\u001b[0m\u001b[0m\n",
      "\u001b[0;32m<ipython-input-12-97bdfb45c5a0>\u001b[0m in \u001b[0;36mjaccard_index\u001b[0;34m(annotated, img, mi, ma, threshold, radius)\u001b[0m\n\u001b[1;32m      1\u001b[0m \u001b[0;32mdef\u001b[0m \u001b[0mjaccard_index\u001b[0m\u001b[0;34m(\u001b[0m\u001b[0mannotated\u001b[0m\u001b[0;34m,\u001b[0m \u001b[0mimg\u001b[0m\u001b[0;34m,\u001b[0m \u001b[0mmi\u001b[0m\u001b[0;34m,\u001b[0m \u001b[0mma\u001b[0m\u001b[0;34m,\u001b[0m \u001b[0mthreshold\u001b[0m\u001b[0;34m,\u001b[0m \u001b[0mradius\u001b[0m\u001b[0;34m)\u001b[0m\u001b[0;34m:\u001b[0m\u001b[0;34m\u001b[0m\u001b[0;34m\u001b[0m\u001b[0m\n\u001b[0;32m----> 2\u001b[0;31m     \u001b[0mprogramImg\u001b[0m \u001b[0;34m=\u001b[0m \u001b[0mread_img\u001b[0m\u001b[0;34m(\u001b[0m\u001b[0mimg\u001b[0m\u001b[0;34m)\u001b[0m\u001b[0;34m\u001b[0m\u001b[0;34m\u001b[0m\u001b[0m\n\u001b[0m\u001b[1;32m      3\u001b[0m     \u001b[0manoImg\u001b[0m \u001b[0;34m=\u001b[0m \u001b[0mread_img\u001b[0m\u001b[0;34m(\u001b[0m\u001b[0mannotated\u001b[0m\u001b[0;34m)\u001b[0m\u001b[0;34m\u001b[0m\u001b[0;34m\u001b[0m\u001b[0m\n\u001b[1;32m      4\u001b[0m     \u001b[0medges\u001b[0m \u001b[0;34m=\u001b[0m \u001b[0mshow_edges\u001b[0m\u001b[0;34m(\u001b[0m\u001b[0mprogramImg\u001b[0m\u001b[0;34m,\u001b[0m \u001b[0mmi\u001b[0m\u001b[0;34m,\u001b[0m \u001b[0mma\u001b[0m\u001b[0;34m)\u001b[0m\u001b[0;34m\u001b[0m\u001b[0;34m\u001b[0m\u001b[0m\n\u001b[1;32m      5\u001b[0m     \u001b[0mimgBW\u001b[0m \u001b[0;34m=\u001b[0m \u001b[0mchange_intensity\u001b[0m\u001b[0;34m(\u001b[0m\u001b[0medges\u001b[0m\u001b[0;34m,\u001b[0m \u001b[0mthreshold\u001b[0m\u001b[0;34m,\u001b[0m \u001b[0mradius\u001b[0m\u001b[0;34m)\u001b[0m\u001b[0;34m\u001b[0m\u001b[0;34m\u001b[0m\u001b[0m\n",
      "\u001b[0;32m<ipython-input-2-be9f36823915>\u001b[0m in \u001b[0;36mread_img\u001b[0;34m(name)\u001b[0m\n\u001b[1;32m      5\u001b[0m     \u001b[0mheight\u001b[0m \u001b[0;34m=\u001b[0m \u001b[0;36m500\u001b[0m \u001b[0;31m# new height\u001b[0m\u001b[0;34m\u001b[0m\u001b[0;34m\u001b[0m\u001b[0m\n\u001b[1;32m      6\u001b[0m     \u001b[0mdim\u001b[0m \u001b[0;34m=\u001b[0m \u001b[0;34m(\u001b[0m\u001b[0mwidth\u001b[0m\u001b[0;34m,\u001b[0m \u001b[0mheight\u001b[0m\u001b[0;34m)\u001b[0m \u001b[0;31m# new dimension tuple\u001b[0m\u001b[0;34m\u001b[0m\u001b[0;34m\u001b[0m\u001b[0m\n\u001b[0;32m----> 7\u001b[0;31m     \u001b[0mresized\u001b[0m \u001b[0;34m=\u001b[0m \u001b[0mcv2\u001b[0m\u001b[0;34m.\u001b[0m\u001b[0mresize\u001b[0m\u001b[0;34m(\u001b[0m\u001b[0mimg\u001b[0m\u001b[0;34m,\u001b[0m \u001b[0mdim\u001b[0m\u001b[0;34m,\u001b[0m \u001b[0minterpolation\u001b[0m\u001b[0;34m=\u001b[0m\u001b[0mcv2\u001b[0m\u001b[0;34m.\u001b[0m\u001b[0mINTER_AREA\u001b[0m\u001b[0;34m)\u001b[0m \u001b[0;31m# set new dimensions\u001b[0m\u001b[0;34m\u001b[0m\u001b[0;34m\u001b[0m\u001b[0m\n\u001b[0m\u001b[1;32m      8\u001b[0m     \u001b[0;32mreturn\u001b[0m \u001b[0mresized\u001b[0m \u001b[0;31m# return 500x500 pixel image\u001b[0m\u001b[0;34m\u001b[0m\u001b[0;34m\u001b[0m\u001b[0m\n",
      "\u001b[0;31merror\u001b[0m: OpenCV(4.5.1) /private/var/folders/nz/vv4_9tw56nv9k3tkvyszvwg80000gn/T/pip-req-build-oe0iat4a/opencv/modules/imgproc/src/resize.cpp:4051: error: (-215:Assertion failed) !ssize.empty() in function 'resize'\n"
     ]
    }
   ],
   "source": [
    "min = 10\n",
    "max = 10\n",
    "while max<100:\n",
    "    print(\"min: \" + str(min) + \" max: \" + str(max) + \" J Index: \" + str(jaccard_index('AnnotatedImages2/DTG Haloparidol 5fold  02232021_A04 (2).jpg', 'Wound_Images/DTG Haloparidol 5fold  02232021_A04.TIF', min, max, 110, 250)))\n",
    "    max+=10"
   ]
  },
  {
   "cell_type": "code",
   "execution_count": null,
   "metadata": {},
   "outputs": [],
   "source": [
    "min = 5\n",
    "max = 20\n",
    "while max<100:\n",
    "    print(\"min: \" + str(min) + \" max: \" + str(max) + \" J Index: \" + str(jaccard_index('AnnotatedImages2/DTG Haloparidol 5fold  02232021_A04 (2).jpg', 'Wound_Images/DTG Haloparidol 5fold  02232021_A04.TIF', min, max, 110, 250)))\n",
    "    max+=5"
   ]
  },
  {
   "cell_type": "code",
   "execution_count": null,
   "metadata": {},
   "outputs": [],
   "source": [
    "statistics.mean([0.8059270327481011,0.832850071757022, 0.8108820633357685, 0.8781110734669412, 0.8204519475951816 ])"
   ]
  },
  {
   "cell_type": "code",
   "execution_count": null,
   "metadata": {
    "scrolled": true
   },
   "outputs": [],
   "source": [
    "statistics.mean([0.5169891458235016,0.5688314363701911,0.425872416092465,0.7080979284369114,0.4538377986965967])"
   ]
  },
  {
   "cell_type": "code",
   "execution_count": null,
   "metadata": {},
   "outputs": [],
   "source": [
    "threshold = 0\n",
    "threshold_ji = []\n",
    "while threshold<300:\n",
    "    p1 = jaccard_index('AnnotatedImages2/DTG Haloparidol 5fold  02232021_A02 (1).jpg', 'Wound_Images/DTG Haloparidol 5fold  02232021_A02 (1).TIF', 10, 15, threshold, 250)\n",
    "    p2 = jaccard_index('AnnotatedImages2/DTG Haloparidol 5fold  02232021_A02 (2).jpg', 'Wound_Images/DTG Haloparidol 5fold  02232021_A02 (2).TIF', 10, 15, threshold, 250)\n",
    "    p3 = jaccard_index('AnnotatedImages2/DTG Haloparidol 5fold  02232021_A03 (1).jpg', 'Wound_Images/DTG Haloparidol 5fold  02232021_A03 (1).TIF', 10, 15, threshold, 250)\n",
    "    p4 = jaccard_index('AnnotatedImages2/DTG Haloparidol 5fold  02232021_A03 (2).jpg', 'Wound_Images/DTG Haloparidol 5fold  02232021_A03 (2).TIF', 10, 15, threshold, 250)\n",
    "    p5 = jaccard_index('AnnotatedImages2/DTG Haloparidol 5fold  02232021_A04 (1).jpg', 'Wound_Images/DTG Haloparidol 5fold  02232021_A04 (1).TIF', 10, 15, threshold, 250)\n",
    "    p6 = jaccard_index('AnnotatedImages2/DTG Haloparidol 5fold  02232021_A04 (2).jpg', 'Wound_Images/DTG Haloparidol 5fold  02232021_A04 (2).TIF', 10, 15, threshold, 250)\n",
    "    p7 = jaccard_index('AnnotatedImages2/DTG Haloparidol 5fold  02232021_A05 (1).jpg', 'Wound_Images/DTG Haloparidol 5fold  02232021_A05 (1).TIF', 10, 15, threshold, 250)\n",
    "    p8 = jaccard_index('AnnotatedImages2/DTG Haloparidol 5fold  02232021_A05 (2).jpg', 'Wound_Images/DTG Haloparidol 5fold  02232021_A05 (2).TIF', 10, 15, threshold, 250)\n",
    "    p9 = jaccard_index('AnnotatedImages2/DTG Haloparidol 5fold  02232021_A06 (1).jpg', 'Wound_Images/DTG Haloparidol 5fold  02232021_A06 (1).TIF', 10, 15, threshold, 250)\n",
    "    p10 = jaccard_index('AnnotatedImages2/DTG Haloparidol 5fold  02232021_A06 (2).jpg', 'Wound_Images/DTG Haloparidol 5fold  02232021_A06 (2).TIF', 10, 15, threshold, 250)\n",
    "    mean = statistics.mean([p1,p2,p3,p4,p5,p6,p7,p8,p9,p10])\n",
    "    threshold_ji.append(mean)\n",
    "    print(\"Threshold: \" + str(threshold) + \" Average J Index: \" + str(mean))\n",
    "    threshold+=10"
   ]
  },
  {
   "cell_type": "code",
   "execution_count": null,
   "metadata": {},
   "outputs": [],
   "source": [
    "radius = 250\n",
    "radius_ji = []\n",
    "while radius<350:\n",
    "    p1 = jaccard_index('AnnotatedImages2/DTG Haloparidol 5fold  02232021_A02 (1).jpg', 'Wound_Images/DTG Haloparidol 5fold  02232021_A02 (1).TIF', 10, 15, 110, radius)\n",
    "    p2 = jaccard_index('AnnotatedImages2/DTG Haloparidol 5fold  02232021_A02 (2).jpg', 'Wound_Images/DTG Haloparidol 5fold  02232021_A02 (2).TIF', 10, 15, 110, radius)\n",
    "    p3 = jaccard_index('AnnotatedImages2/DTG Haloparidol 5fold  02232021_A03 (1).jpg', 'Wound_Images/DTG Haloparidol 5fold  02232021_A03 (1).TIF', 10, 15, 110, radius)\n",
    "    p4 = jaccard_index('AnnotatedImages2/DTG Haloparidol 5fold  02232021_A03 (2).jpg', 'Wound_Images/DTG Haloparidol 5fold  02232021_A03 (2).TIF', 10, 15, 110, radius)\n",
    "    p5 = jaccard_index('AnnotatedImages2/DTG Haloparidol 5fold  02232021_A04 (1).jpg', 'Wound_Images/DTG Haloparidol 5fold  02232021_A04 (1).TIF', 10, 15, 110,radius)\n",
    "    p6 = jaccard_index('AnnotatedImages2/DTG Haloparidol 5fold  02232021_A04 (2).jpg', 'Wound_Images/DTG Haloparidol 5fold  02232021_A04 (2).TIF', 10, 15, 110, radius)\n",
    "    p7 = jaccard_index('AnnotatedImages2/DTG Haloparidol 5fold  02232021_A05 (1).jpg', 'Wound_Images/DTG Haloparidol 5fold  02232021_A05 (1).TIF', 10, 15, 110, radius)\n",
    "    p8 = jaccard_index('AnnotatedImages2/DTG Haloparidol 5fold  02232021_A05 (2).jpg', 'Wound_Images/DTG Haloparidol 5fold  02232021_A05 (2).TIF', 10, 15, 110, radius)\n",
    "    p9 = jaccard_index('AnnotatedImages2/DTG Haloparidol 5fold  02232021_A06 (1).jpg', 'Wound_Images/DTG Haloparidol 5fold  02232021_A06 (1).TIF', 10, 15, 110, radius)\n",
    "    p10 = jaccard_index('AnnotatedImages2/DTG Haloparidol 5fold  02232021_A06 (2).jpg', 'Wound_Images/DTG Haloparidol 5fold  02232021_A06 (2).TIF', 10, 15, 110, radius)\n",
    "    mean = statistics.mean([p1,p2,p3,p4,p5,p6,p7,p8,p9,p10])\n",
    "    radius_ji.append(mean)\n",
    "    print(\"Radius: \" + str(radius) + \" Average J Index: \" + str(mean))\n",
    "    radius+=10"
   ]
  },
  {
   "cell_type": "code",
   "execution_count": null,
   "metadata": {},
   "outputs": [],
   "source": []
  }
 ],
 "metadata": {
  "kernelspec": {
   "display_name": "Python 3",
   "language": "python",
   "name": "python3"
  },
  "language_info": {
   "codemirror_mode": {
    "name": "ipython",
    "version": 3
   },
   "file_extension": ".py",
   "mimetype": "text/x-python",
   "name": "python",
   "nbconvert_exporter": "python",
   "pygments_lexer": "ipython3",
   "version": "3.7.6"
  }
 },
 "nbformat": 4,
 "nbformat_minor": 4
}
